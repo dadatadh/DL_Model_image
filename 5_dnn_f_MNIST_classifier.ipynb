{
  "nbformat": 4,
  "nbformat_minor": 0,
  "metadata": {
    "colab": {
      "provenance": [],
      "gpuType": "T4",
      "include_colab_link": true
    },
    "kernelspec": {
      "name": "python3",
      "display_name": "Python 3"
    },
    "language_info": {
      "name": "python"
    },
    "accelerator": "GPU"
  },
  "cells": [
    {
      "cell_type": "markdown",
      "metadata": {
        "id": "view-in-github",
        "colab_type": "text"
      },
      "source": [
        "<a href=\"https://colab.research.google.com/github/dadatadh/DL_Model_image/blob/main/5_dnn_f_MNIST_classifier.ipynb\" target=\"_parent\"><img src=\"https://colab.research.google.com/assets/colab-badge.svg\" alt=\"Open In Colab\"/></a>"
      ]
    },
    {
      "cell_type": "markdown",
      "source": [
        "# 인공신경망 활용하기\n"
      ],
      "metadata": {
        "id": "dN3ZQlftiUvA"
      }
    },
    {
      "cell_type": "markdown",
      "source": [
        "\n",
        "## 실습 목표\n",
        "-----\n",
        "- torchvision 데이터 셋을 사용하여 이미지 분류기를 생성한다.\n",
        "- 생성한 모델을 저장하고, 저장된 모델을 다시 불러와서 사용한다.\n",
        "\n"
      ],
      "metadata": {
        "id": "4o8cDkAF89bc"
      }
    },
    {
      "cell_type": "markdown",
      "source": [
        "\n",
        "## 문제 정의\n",
        "-----\n",
        "- pytorch를 사용하여 기본적인 인공신경망을 생성하여 이미지 분류기를 생성합니다.\n",
        "- 데이터셋: [Fashion MNIST](https://pytorch.org/vision/0.9/datasets.html#fashion-mnist)\n",
        "\n",
        "- **reference**\n",
        "    - https://tutorials.pytorch.kr/beginner/basics/buildmodel_tutorial.html\n",
        "    - https://tutorials.pytorch.kr/beginner/basics/data_tutorial.html"
      ],
      "metadata": {
        "id": "UZfgLyXW88Nh"
      }
    },
    {
      "cell_type": "markdown",
      "source": [
        "## 주요 개념 리뷰\n",
        "----\n",
        "\n",
        "### 1. TensorDataset과 DataLoader\n",
        "\n",
        "- 입력 데이터를 쉽게 처리하고, 배치 단위로 잘러서 학습할 수 있게 도와주는 모듈\n",
        "- **Dataset** : 학습시 사용하는 feature와 target의 pair로 이루어짐\n",
        "\n",
        "- **DataLoader**: 학습 시 각 인스턴스에 쉽게 접근할 수 있도록 순회 가능한 객체(iterable)를 생성\n",
        "\n",
        "- **DataLoader가 하는 역할**\n",
        "    - shuffling\n",
        "    - batch ...\n",
        "\n",
        "### 2. Device 설정\n",
        "- 일반적으로 인공신경망의 학습은 (가능하다면) GPU를 사용하는 것이 바람직함\n",
        "- GPU를 사용하여 학습을 진행하도록 명시적으로 작성 필요\n",
        "- 연산 유형에 따라 GPU에서 수행이 불가능한 경우도 존재하는데, 그럴 경우도 마찬가지로 명시적으로 어떤 프로세서에서 연산을 수행해야하는지 코드로 작성해야함\n",
        "\n",
        "\n",
        "### 3. 신경망 생성\n",
        "\n",
        "- **torch.nn 패키지**는 신경망 생성 및 학습 시 설정해야하는 다양한 기능을 제공\n",
        "- 신경망을 **nn.Module**을 상속받아 정의\n",
        "    - __ __init__ __(): 신경망에서 사용할 layer를 초기화하는 부분\n",
        "    - __forward()__: feed foward 연산 수행 시, 각 layer의 입출력이 어떻게 연결되는지를 지정\n",
        "\n",
        "\n",
        "### 4. Model compile\n",
        "\n",
        "- 학습 시 필요한 정보들(loss function, optimizer)을 선언\n",
        "- 일반적으로 loss와 optimizer는 아래와 같이 변수로 선언하고, 변수를 train/test 시 참고할 수 있도록 매개변수로 지정해줌\n",
        "\n",
        "\n",
        "### 5. Train\n",
        "- **신경망의 학습과정**을 별도의 함수로 구성하는 것이 일반적\n",
        "    - feed forward -> loss -> error back propagation -> (log) -> (반복)\n",
        "    \n",
        "    (error back propagation을 통해 gradient 계산_가중치 업데이트)\n",
        "\n",
        "### 6. Test\n",
        "\n",
        "- 학습과정과 비슷하나 error back propagate하는 부분이 없음\n",
        "    - feed forward -> loss ->  (log) -> (반복)\n",
        "\n",
        "### 7. Iteration\n",
        "- 신경망 학습은 여러 epochs을 반복해서 수행하면서 모델을 구성하는 최적의 파라미터를 찾음\n",
        "- 지정한 epochs 수만큼 **학습**과정과 **평가**과정을 반복하면서, 모델의 성능(loss, accuracy 등)을 체크함"
      ],
      "metadata": {
        "id": "73hIq_459BDy"
      }
    },
    {
      "cell_type": "markdown",
      "source": [
        "## 주요 코드\n",
        "----"
      ],
      "metadata": {
        "id": "F7-UAiRcB9tB"
      }
    },
    {
      "cell_type": "markdown",
      "source": [
        "## Fashion MNIST Classifier\n",
        "----\n",
        "Fashion MNIST 데이터셋을 사용하여 옷의 품목을 구분하는 분류기를 신경망을 사용하여 구현해봅니다."
      ],
      "metadata": {
        "id": "MtFXwWlM-f_a"
      }
    },
    {
      "cell_type": "markdown",
      "source": [
        "### [Step1] Load libraries & Datasets\n",
        "\n",
        "* **[torch.nn](https://pytorch.org/docs/stable/nn.html)** :  신경망을 생성하기 위한 기본 재료들을 제공(Modules, Sequential, Layer, Activations, Loss, Dropout...)\n",
        "* **[torchvision.datasets](https://pytorch.org/vision/0.9/datasets.html#fashion-mnist)** : torchvision.transforms를 사용해 변형이 가능한 형태, feature와 label을 반환\n",
        "* **[torchvision.transforms](https://tutorials.pytorch.kr/beginner/basics/transforms_tutorial.html)**\n",
        "    * ToTensor() : ndarray를 FloatTensor로 변환하고 이미지 픽셀 크기를 [0., 1.]범위로 조정(scale)"
      ],
      "metadata": {
        "id": "d6HMrwnVi_GJ"
      }
    },
    {
      "cell_type": "code",
      "execution_count": null,
      "metadata": {
        "id": "UdsAY_OFiAwA"
      },
      "outputs": [],
      "source": [
        "import numpy as np\n",
        "import matplotlib.pyplot as plt\n",
        "\n",
        "import torch\n",
        "from torch.utils.data import DataLoader\n",
        "from torch import nn\n",
        "\n",
        "from torchvision import datasets\n",
        "from torchvision.transforms import ToTensor"
      ]
    },
    {
      "cell_type": "code",
      "source": [
        "# FashionMNIST 데이터셋 불러오기\n",
        "training_data = datasets.FashionMNIST(\n",
        "    root = 'data',\n",
        "    train = True,\n",
        "    download = True,\n",
        "    transform = ToTensor(),\n",
        ")\n",
        "\n",
        "test_data = datasets.FashionMNIST(\n",
        "    root = 'data',\n",
        "    train = False,\n",
        "    download = True,\n",
        "    transform = ToTensor(),\n",
        ")"
      ],
      "metadata": {
        "id": "izKdPzZu7zvd",
        "colab": {
          "base_uri": "https://localhost:8080/"
        },
        "outputId": "a17f1914-0a3e-4d31-bdec-0f5004a527d2"
      },
      "execution_count": null,
      "outputs": [
        {
          "output_type": "stream",
          "name": "stdout",
          "text": [
            "Downloading http://fashion-mnist.s3-website.eu-central-1.amazonaws.com/train-images-idx3-ubyte.gz\n",
            "Downloading http://fashion-mnist.s3-website.eu-central-1.amazonaws.com/train-images-idx3-ubyte.gz to data/FashionMNIST/raw/train-images-idx3-ubyte.gz\n"
          ]
        },
        {
          "output_type": "stream",
          "name": "stderr",
          "text": [
            "100%|██████████| 26421880/26421880 [00:02<00:00, 11729667.80it/s]\n"
          ]
        },
        {
          "output_type": "stream",
          "name": "stdout",
          "text": [
            "Extracting data/FashionMNIST/raw/train-images-idx3-ubyte.gz to data/FashionMNIST/raw\n",
            "\n",
            "Downloading http://fashion-mnist.s3-website.eu-central-1.amazonaws.com/train-labels-idx1-ubyte.gz\n",
            "Downloading http://fashion-mnist.s3-website.eu-central-1.amazonaws.com/train-labels-idx1-ubyte.gz to data/FashionMNIST/raw/train-labels-idx1-ubyte.gz\n"
          ]
        },
        {
          "output_type": "stream",
          "name": "stderr",
          "text": [
            "100%|██████████| 29515/29515 [00:00<00:00, 201700.81it/s]\n"
          ]
        },
        {
          "output_type": "stream",
          "name": "stdout",
          "text": [
            "Extracting data/FashionMNIST/raw/train-labels-idx1-ubyte.gz to data/FashionMNIST/raw\n",
            "\n",
            "Downloading http://fashion-mnist.s3-website.eu-central-1.amazonaws.com/t10k-images-idx3-ubyte.gz\n",
            "Downloading http://fashion-mnist.s3-website.eu-central-1.amazonaws.com/t10k-images-idx3-ubyte.gz to data/FashionMNIST/raw/t10k-images-idx3-ubyte.gz\n"
          ]
        },
        {
          "output_type": "stream",
          "name": "stderr",
          "text": [
            "100%|██████████| 4422102/4422102 [00:01<00:00, 3698904.03it/s]\n"
          ]
        },
        {
          "output_type": "stream",
          "name": "stdout",
          "text": [
            "Extracting data/FashionMNIST/raw/t10k-images-idx3-ubyte.gz to data/FashionMNIST/raw\n",
            "\n",
            "Downloading http://fashion-mnist.s3-website.eu-central-1.amazonaws.com/t10k-labels-idx1-ubyte.gz\n",
            "Downloading http://fashion-mnist.s3-website.eu-central-1.amazonaws.com/t10k-labels-idx1-ubyte.gz to data/FashionMNIST/raw/t10k-labels-idx1-ubyte.gz\n"
          ]
        },
        {
          "output_type": "stream",
          "name": "stderr",
          "text": [
            "100%|██████████| 5148/5148 [00:00<00:00, 22970507.44it/s]"
          ]
        },
        {
          "output_type": "stream",
          "name": "stdout",
          "text": [
            "Extracting data/FashionMNIST/raw/t10k-labels-idx1-ubyte.gz to data/FashionMNIST/raw\n",
            "\n"
          ]
        },
        {
          "output_type": "stream",
          "name": "stderr",
          "text": [
            "\n"
          ]
        }
      ]
    },
    {
      "cell_type": "markdown",
      "source": [
        "### [Step2] Create DataLoader"
      ],
      "metadata": {
        "id": "plROYXHy95Xx"
      }
    },
    {
      "cell_type": "code",
      "source": [
        "train_dataloader = DataLoader(training_data, batch_size = 64, shuffle = True)\n",
        "test_dataloader = DataLoader(test_data, batch_size = 64, shuffle = False)"
      ],
      "metadata": {
        "id": "7Vg9INIm94Nt"
      },
      "execution_count": null,
      "outputs": []
    },
    {
      "cell_type": "code",
      "source": [
        "# Device 설정\n",
        "device = 'cuda' if torch.cuda.is_available() else 'cpu'\n",
        "print(f'device = {device}')"
      ],
      "metadata": {
        "id": "pDqQL8xBdXfc",
        "colab": {
          "base_uri": "https://localhost:8080/"
        },
        "outputId": "c86f717c-250f-4dce-bdf7-c0eec6884154"
      },
      "execution_count": null,
      "outputs": [
        {
          "output_type": "stream",
          "name": "stdout",
          "text": [
            "device = cuda\n"
          ]
        }
      ]
    },
    {
      "cell_type": "markdown",
      "source": [
        "#### EDA"
      ],
      "metadata": {
        "id": "4D9i0DX3iSlx"
      }
    },
    {
      "cell_type": "code",
      "source": [
        "print(training_data, '\\n------------------\\n', test_data)"
      ],
      "metadata": {
        "id": "LPFgyjYn-wgO",
        "colab": {
          "base_uri": "https://localhost:8080/"
        },
        "outputId": "c352638b-196e-4860-90f0-0599e2733fb0"
      },
      "execution_count": null,
      "outputs": [
        {
          "output_type": "stream",
          "name": "stdout",
          "text": [
            "Dataset FashionMNIST\n",
            "    Number of datapoints: 60000\n",
            "    Root location: data\n",
            "    Split: Train\n",
            "    StandardTransform\n",
            "Transform: ToTensor() \n",
            "------------------\n",
            " Dataset FashionMNIST\n",
            "    Number of datapoints: 10000\n",
            "    Root location: data\n",
            "    Split: Test\n",
            "    StandardTransform\n",
            "Transform: ToTensor()\n"
          ]
        }
      ]
    },
    {
      "cell_type": "code",
      "source": [
        "training_data[0]"
      ],
      "metadata": {
        "id": "NoVlIHiZmmLU",
        "colab": {
          "base_uri": "https://localhost:8080/"
        },
        "outputId": "4b155184-e470-4058-c93e-4adcd369cd5c"
      },
      "execution_count": null,
      "outputs": [
        {
          "output_type": "execute_result",
          "data": {
            "text/plain": [
              "(tensor([[[0.0000, 0.0000, 0.0000, 0.0000, 0.0000, 0.0000, 0.0000, 0.0000,\n",
              "           0.0000, 0.0000, 0.0000, 0.0000, 0.0000, 0.0000, 0.0000, 0.0000,\n",
              "           0.0000, 0.0000, 0.0000, 0.0000, 0.0000, 0.0000, 0.0000, 0.0000,\n",
              "           0.0000, 0.0000, 0.0000, 0.0000],\n",
              "          [0.0000, 0.0000, 0.0000, 0.0000, 0.0000, 0.0000, 0.0000, 0.0000,\n",
              "           0.0000, 0.0000, 0.0000, 0.0000, 0.0000, 0.0000, 0.0000, 0.0000,\n",
              "           0.0000, 0.0000, 0.0000, 0.0000, 0.0000, 0.0000, 0.0000, 0.0000,\n",
              "           0.0000, 0.0000, 0.0000, 0.0000],\n",
              "          [0.0000, 0.0000, 0.0000, 0.0000, 0.0000, 0.0000, 0.0000, 0.0000,\n",
              "           0.0000, 0.0000, 0.0000, 0.0000, 0.0000, 0.0000, 0.0000, 0.0000,\n",
              "           0.0000, 0.0000, 0.0000, 0.0000, 0.0000, 0.0000, 0.0000, 0.0000,\n",
              "           0.0000, 0.0000, 0.0000, 0.0000],\n",
              "          [0.0000, 0.0000, 0.0000, 0.0000, 0.0000, 0.0000, 0.0000, 0.0000,\n",
              "           0.0000, 0.0000, 0.0000, 0.0000, 0.0039, 0.0000, 0.0000, 0.0510,\n",
              "           0.2863, 0.0000, 0.0000, 0.0039, 0.0157, 0.0000, 0.0000, 0.0000,\n",
              "           0.0000, 0.0039, 0.0039, 0.0000],\n",
              "          [0.0000, 0.0000, 0.0000, 0.0000, 0.0000, 0.0000, 0.0000, 0.0000,\n",
              "           0.0000, 0.0000, 0.0000, 0.0000, 0.0118, 0.0000, 0.1412, 0.5333,\n",
              "           0.4980, 0.2431, 0.2118, 0.0000, 0.0000, 0.0000, 0.0039, 0.0118,\n",
              "           0.0157, 0.0000, 0.0000, 0.0118],\n",
              "          [0.0000, 0.0000, 0.0000, 0.0000, 0.0000, 0.0000, 0.0000, 0.0000,\n",
              "           0.0000, 0.0000, 0.0000, 0.0000, 0.0235, 0.0000, 0.4000, 0.8000,\n",
              "           0.6902, 0.5255, 0.5647, 0.4824, 0.0902, 0.0000, 0.0000, 0.0000,\n",
              "           0.0000, 0.0471, 0.0392, 0.0000],\n",
              "          [0.0000, 0.0000, 0.0000, 0.0000, 0.0000, 0.0000, 0.0000, 0.0000,\n",
              "           0.0000, 0.0000, 0.0000, 0.0000, 0.0000, 0.0000, 0.6078, 0.9255,\n",
              "           0.8118, 0.6980, 0.4196, 0.6118, 0.6314, 0.4275, 0.2510, 0.0902,\n",
              "           0.3020, 0.5098, 0.2824, 0.0588],\n",
              "          [0.0000, 0.0000, 0.0000, 0.0000, 0.0000, 0.0000, 0.0000, 0.0000,\n",
              "           0.0000, 0.0000, 0.0000, 0.0039, 0.0000, 0.2706, 0.8118, 0.8745,\n",
              "           0.8549, 0.8471, 0.8471, 0.6392, 0.4980, 0.4745, 0.4784, 0.5725,\n",
              "           0.5529, 0.3451, 0.6745, 0.2588],\n",
              "          [0.0000, 0.0000, 0.0000, 0.0000, 0.0000, 0.0000, 0.0000, 0.0000,\n",
              "           0.0000, 0.0039, 0.0039, 0.0039, 0.0000, 0.7843, 0.9098, 0.9098,\n",
              "           0.9137, 0.8980, 0.8745, 0.8745, 0.8431, 0.8353, 0.6431, 0.4980,\n",
              "           0.4824, 0.7686, 0.8980, 0.0000],\n",
              "          [0.0000, 0.0000, 0.0000, 0.0000, 0.0000, 0.0000, 0.0000, 0.0000,\n",
              "           0.0000, 0.0000, 0.0000, 0.0000, 0.0000, 0.7176, 0.8824, 0.8471,\n",
              "           0.8745, 0.8941, 0.9216, 0.8902, 0.8784, 0.8706, 0.8784, 0.8667,\n",
              "           0.8745, 0.9608, 0.6784, 0.0000],\n",
              "          [0.0000, 0.0000, 0.0000, 0.0000, 0.0000, 0.0000, 0.0000, 0.0000,\n",
              "           0.0000, 0.0000, 0.0000, 0.0000, 0.0000, 0.7569, 0.8941, 0.8549,\n",
              "           0.8353, 0.7765, 0.7059, 0.8314, 0.8235, 0.8275, 0.8353, 0.8745,\n",
              "           0.8627, 0.9529, 0.7922, 0.0000],\n",
              "          [0.0000, 0.0000, 0.0000, 0.0000, 0.0000, 0.0000, 0.0000, 0.0000,\n",
              "           0.0000, 0.0039, 0.0118, 0.0000, 0.0471, 0.8588, 0.8627, 0.8314,\n",
              "           0.8549, 0.7529, 0.6627, 0.8902, 0.8157, 0.8549, 0.8784, 0.8314,\n",
              "           0.8863, 0.7725, 0.8196, 0.2039],\n",
              "          [0.0000, 0.0000, 0.0000, 0.0000, 0.0000, 0.0000, 0.0000, 0.0000,\n",
              "           0.0000, 0.0000, 0.0235, 0.0000, 0.3882, 0.9569, 0.8706, 0.8627,\n",
              "           0.8549, 0.7961, 0.7765, 0.8667, 0.8431, 0.8353, 0.8706, 0.8627,\n",
              "           0.9608, 0.4667, 0.6549, 0.2196],\n",
              "          [0.0000, 0.0000, 0.0000, 0.0000, 0.0000, 0.0000, 0.0000, 0.0000,\n",
              "           0.0000, 0.0157, 0.0000, 0.0000, 0.2157, 0.9255, 0.8941, 0.9020,\n",
              "           0.8941, 0.9412, 0.9098, 0.8353, 0.8549, 0.8745, 0.9176, 0.8510,\n",
              "           0.8510, 0.8196, 0.3608, 0.0000],\n",
              "          [0.0000, 0.0000, 0.0039, 0.0157, 0.0235, 0.0275, 0.0078, 0.0000,\n",
              "           0.0000, 0.0000, 0.0000, 0.0000, 0.9294, 0.8863, 0.8510, 0.8745,\n",
              "           0.8706, 0.8588, 0.8706, 0.8667, 0.8471, 0.8745, 0.8980, 0.8431,\n",
              "           0.8549, 1.0000, 0.3020, 0.0000],\n",
              "          [0.0000, 0.0118, 0.0000, 0.0000, 0.0000, 0.0000, 0.0000, 0.0000,\n",
              "           0.0000, 0.2431, 0.5686, 0.8000, 0.8941, 0.8118, 0.8353, 0.8667,\n",
              "           0.8549, 0.8157, 0.8275, 0.8549, 0.8784, 0.8745, 0.8588, 0.8431,\n",
              "           0.8784, 0.9569, 0.6235, 0.0000],\n",
              "          [0.0000, 0.0000, 0.0000, 0.0000, 0.0706, 0.1725, 0.3216, 0.4196,\n",
              "           0.7412, 0.8941, 0.8627, 0.8706, 0.8510, 0.8863, 0.7843, 0.8039,\n",
              "           0.8275, 0.9020, 0.8784, 0.9176, 0.6902, 0.7373, 0.9804, 0.9725,\n",
              "           0.9137, 0.9333, 0.8431, 0.0000],\n",
              "          [0.0000, 0.2235, 0.7333, 0.8157, 0.8784, 0.8667, 0.8784, 0.8157,\n",
              "           0.8000, 0.8392, 0.8157, 0.8196, 0.7843, 0.6235, 0.9608, 0.7569,\n",
              "           0.8078, 0.8745, 1.0000, 1.0000, 0.8667, 0.9176, 0.8667, 0.8275,\n",
              "           0.8627, 0.9098, 0.9647, 0.0000],\n",
              "          [0.0118, 0.7922, 0.8941, 0.8784, 0.8667, 0.8275, 0.8275, 0.8392,\n",
              "           0.8039, 0.8039, 0.8039, 0.8627, 0.9412, 0.3137, 0.5882, 1.0000,\n",
              "           0.8980, 0.8667, 0.7373, 0.6039, 0.7490, 0.8235, 0.8000, 0.8196,\n",
              "           0.8706, 0.8941, 0.8824, 0.0000],\n",
              "          [0.3843, 0.9137, 0.7765, 0.8235, 0.8706, 0.8980, 0.8980, 0.9176,\n",
              "           0.9765, 0.8627, 0.7608, 0.8431, 0.8510, 0.9451, 0.2549, 0.2863,\n",
              "           0.4157, 0.4588, 0.6588, 0.8588, 0.8667, 0.8431, 0.8510, 0.8745,\n",
              "           0.8745, 0.8784, 0.8980, 0.1137],\n",
              "          [0.2941, 0.8000, 0.8314, 0.8000, 0.7569, 0.8039, 0.8275, 0.8824,\n",
              "           0.8471, 0.7255, 0.7725, 0.8078, 0.7765, 0.8353, 0.9412, 0.7647,\n",
              "           0.8902, 0.9608, 0.9373, 0.8745, 0.8549, 0.8314, 0.8196, 0.8706,\n",
              "           0.8627, 0.8667, 0.9020, 0.2627],\n",
              "          [0.1882, 0.7961, 0.7176, 0.7608, 0.8353, 0.7725, 0.7255, 0.7451,\n",
              "           0.7608, 0.7529, 0.7922, 0.8392, 0.8588, 0.8667, 0.8627, 0.9255,\n",
              "           0.8824, 0.8471, 0.7804, 0.8078, 0.7294, 0.7098, 0.6941, 0.6745,\n",
              "           0.7098, 0.8039, 0.8078, 0.4510],\n",
              "          [0.0000, 0.4784, 0.8588, 0.7569, 0.7020, 0.6706, 0.7176, 0.7686,\n",
              "           0.8000, 0.8235, 0.8353, 0.8118, 0.8275, 0.8235, 0.7843, 0.7686,\n",
              "           0.7608, 0.7490, 0.7647, 0.7490, 0.7765, 0.7529, 0.6902, 0.6118,\n",
              "           0.6549, 0.6941, 0.8235, 0.3608],\n",
              "          [0.0000, 0.0000, 0.2902, 0.7412, 0.8314, 0.7490, 0.6863, 0.6745,\n",
              "           0.6863, 0.7098, 0.7255, 0.7373, 0.7412, 0.7373, 0.7569, 0.7765,\n",
              "           0.8000, 0.8196, 0.8235, 0.8235, 0.8275, 0.7373, 0.7373, 0.7608,\n",
              "           0.7529, 0.8471, 0.6667, 0.0000],\n",
              "          [0.0078, 0.0000, 0.0000, 0.0000, 0.2588, 0.7843, 0.8706, 0.9294,\n",
              "           0.9373, 0.9490, 0.9647, 0.9529, 0.9569, 0.8667, 0.8627, 0.7569,\n",
              "           0.7490, 0.7020, 0.7137, 0.7137, 0.7098, 0.6902, 0.6510, 0.6588,\n",
              "           0.3882, 0.2275, 0.0000, 0.0000],\n",
              "          [0.0000, 0.0000, 0.0000, 0.0000, 0.0000, 0.0000, 0.0000, 0.1569,\n",
              "           0.2392, 0.1725, 0.2824, 0.1608, 0.1373, 0.0000, 0.0000, 0.0000,\n",
              "           0.0000, 0.0000, 0.0000, 0.0000, 0.0000, 0.0000, 0.0000, 0.0000,\n",
              "           0.0000, 0.0000, 0.0000, 0.0000],\n",
              "          [0.0000, 0.0000, 0.0000, 0.0000, 0.0000, 0.0000, 0.0000, 0.0000,\n",
              "           0.0000, 0.0000, 0.0000, 0.0000, 0.0000, 0.0000, 0.0000, 0.0000,\n",
              "           0.0000, 0.0000, 0.0000, 0.0000, 0.0000, 0.0000, 0.0000, 0.0000,\n",
              "           0.0000, 0.0000, 0.0000, 0.0000],\n",
              "          [0.0000, 0.0000, 0.0000, 0.0000, 0.0000, 0.0000, 0.0000, 0.0000,\n",
              "           0.0000, 0.0000, 0.0000, 0.0000, 0.0000, 0.0000, 0.0000, 0.0000,\n",
              "           0.0000, 0.0000, 0.0000, 0.0000, 0.0000, 0.0000, 0.0000, 0.0000,\n",
              "           0.0000, 0.0000, 0.0000, 0.0000]]]),\n",
              " 9)"
            ]
          },
          "metadata": {},
          "execution_count": 6
        }
      ]
    },
    {
      "cell_type": "code",
      "source": [
        "train_features, train_labels = next(iter(train_dataloader))\n",
        "print(f\"Feature batch shape: {train_features.size()}\") #batchsize, 차원, 픽셀 순서\n",
        "print(f\"Labels batch shape: {train_labels.size()}\")"
      ],
      "metadata": {
        "id": "EcwGOt2eDXtZ",
        "colab": {
          "base_uri": "https://localhost:8080/"
        },
        "outputId": "16ad2761-d788-47f7-fc5d-3d4ec1be23ed"
      },
      "execution_count": null,
      "outputs": [
        {
          "output_type": "stream",
          "name": "stdout",
          "text": [
            "Feature batch shape: torch.Size([64, 1, 28, 28])\n",
            "Labels batch shape: torch.Size([64])\n"
          ]
        }
      ]
    },
    {
      "cell_type": "code",
      "source": [
        "img, label = training_data[0]\n",
        "plt.imshow(img.squeeze(), cmap='gray')\n",
        "print(f'label={label}')"
      ],
      "metadata": {
        "id": "wYEmeSej_kaV",
        "colab": {
          "base_uri": "https://localhost:8080/",
          "height": 448
        },
        "outputId": "467c36a1-6ee2-4065-ab08-a14b9ca6cf0c"
      },
      "execution_count": null,
      "outputs": [
        {
          "output_type": "stream",
          "name": "stdout",
          "text": [
            "label=9\n"
          ]
        },
        {
          "output_type": "display_data",
          "data": {
            "text/plain": [
              "<Figure size 640x480 with 1 Axes>"
            ],
            "image/png": "[encoded data removed]"
          },
          "metadata": {}
        }
      ]
    },
    {
      "cell_type": "code",
      "source": [
        "#특정 label이 어떤 것을 의미하는지\n",
        "labels_map = {\n",
        "    0: \"T-Shirt\",\n",
        "    1: \"Trouser\",\n",
        "    2: \"Pullover\",\n",
        "    3: \"Dress\",\n",
        "    4: \"Coat\",\n",
        "    5: \"Sandal\",\n",
        "    6: \"Shirt\",\n",
        "    7: \"Sneaker\",\n",
        "    8: \"Bag\",\n",
        "    9: \"Ankle Boot\",\n",
        "}"
      ],
      "metadata": {
        "id": "-nHIax8LjHTt"
      },
      "execution_count": null,
      "outputs": []
    },
    {
      "cell_type": "code",
      "source": [
        "figure = plt.figure(figsize = (20, 8))\n",
        "cols, rows = 5, 2\n",
        "\n",
        "for i in range(1, cols * rows +1):\n",
        "    sample_idx = torch.randint(len(training_data), size=(1,)).item()\n",
        "    img, label = training_data[sample_idx]\n",
        "    figure.add_subplot(rows, cols, i)\n",
        "    plt.title(labels_map[label])\n",
        "    print(labels_map[label])\n",
        "    plt.axis('off')\n",
        "    plt.imshow(img.squeeze(), cmap='gray')\n",
        "plt.show()"
      ],
      "metadata": {
        "id": "RfTEDUTHjILY",
        "colab": {
          "base_uri": "https://localhost:8080/",
          "height": 492
        },
        "outputId": "910b270c-eaab-427d-df6c-4a7fb3362e64"
      },
      "execution_count": null,
      "outputs": [
        {
          "output_type": "stream",
          "name": "stdout",
          "text": [
            "Shirt\n",
            "Bag\n",
            "Sandal\n",
            "Shirt\n",
            "Shirt\n",
            "Coat\n",
            "Coat\n",
            "T-Shirt\n",
            "Sandal\n",
            "Pullover\n"
          ]
        },
        {
          "output_type": "display_data",
          "data": {
            "text/plain": [
              "<Figure size 2000x800 with 10 Axes>"
            ],
            "image/png": "[encoded data removed]"
          },
          "metadata": {}
        }
      ]
    },
    {
      "cell_type": "markdown",
      "source": [
        "### [Step3] Set Network Structure"
      ],
      "metadata": {
        "id": "tpRGRkTXjJB0"
      }
    },
    {
      "cell_type": "code",
      "source": [
        "class NeuralNetwork(nn.Module):\n",
        "    def __init__(self):\n",
        "        super(NeuralNetwork, self).__init__()\n",
        "        self.flatten = nn.Flatten()                 #2차원 데이터를 1차원으로 변경하기 위해 flatten\n",
        "        self.classifier = nn.Sequential(\n",
        "            nn.Linear(28*28, 128),                  #여기서는 그냥 간단하게 linear로 해봄\n",
        "            nn.ReLU(),\n",
        "            nn.Dropout(0.2),                        #무작위로 뉴런을 비활성화하여 과적합 방지\n",
        "            nn.Linear(128, 10),\n",
        "        )\n",
        "\n",
        "    def forward(self, x):\n",
        "        x = self.flatten(x)\n",
        "        output = self.classifier(x)\n",
        "        return output"
      ],
      "metadata": {
        "id": "BJ9iQln4FEhF"
      },
      "execution_count": null,
      "outputs": []
    },
    {
      "cell_type": "markdown",
      "source": [
        "### [Step4] Create Model instance"
      ],
      "metadata": {
        "id": "svcCPRGxF5ls"
      }
    },
    {
      "cell_type": "code",
      "source": [
        "model = NeuralNetwork().to(device)\n",
        "print(model)"
      ],
      "metadata": {
        "id": "FDgZ56RzGAN3",
        "colab": {
          "base_uri": "https://localhost:8080/"
        },
        "outputId": "142e067e-8d14-49d9-dd12-0c4446f1093d"
      },
      "execution_count": null,
      "outputs": [
        {
          "output_type": "stream",
          "name": "stdout",
          "text": [
            "NeuralNetwork(\n",
            "  (flatten): Flatten(start_dim=1, end_dim=-1)\n",
            "  (classifier): Sequential(\n",
            "    (0): Linear(in_features=784, out_features=128, bias=True)\n",
            "    (1): ReLU()\n",
            "    (2): Dropout(p=0.2, inplace=False)\n",
            "    (3): Linear(in_features=128, out_features=10, bias=True)\n",
            "  )\n",
            ")\n"
          ]
        }
      ]
    },
    {
      "cell_type": "markdown",
      "source": [
        "#### Model 테스트"
      ],
      "metadata": {
        "id": "gm6l19FXGMnO"
      }
    },
    {
      "cell_type": "code",
      "source": [
        "#생성한 신경망이 실행되는지 간단하게 테스트\n",
        "X = torch.rand(1, 28, 28, device = device)\n",
        "output = model(X)\n",
        "print(f'모델 출력 결과: {output}\\n')\n",
        "pred_probab = nn.Softmax(dim=1)(output) #다중 클래스 분류 문제에서 로짓값을 확률 분포로 변환\n",
        "print(f'Softmax 결과: {pred_probab}\\n')\n",
        "y_pred = pred_probab.argmax()           #가장 높은 확률 분포를 갖는 값의 인덱스 출력\n",
        "print(y_pred)"
      ],
      "metadata": {
        "id": "8h8h5hlVGPIl",
        "colab": {
          "base_uri": "https://localhost:8080/"
        },
        "outputId": "749b37ab-d8d6-4a50-f8a7-879de9932b5f"
      },
      "execution_count": null,
      "outputs": [
        {
          "output_type": "stream",
          "name": "stdout",
          "text": [
            "모델 출력 결과: tensor([[ 0.0261, -0.0576,  0.1482, -0.0473,  0.0020,  0.1698, -0.0356, -0.2321,\n",
            "          0.0070, -0.1611]], device='cuda:0', grad_fn=<AddmmBackward0>)\n",
            "\n",
            "Softmax 결과: tensor([[0.1038, 0.0955, 0.1173, 0.0965, 0.1013, 0.1199, 0.0976, 0.0802, 0.1019,\n",
            "         0.0861]], device='cuda:0', grad_fn=<SoftmaxBackward0>)\n",
            "\n",
            "tensor(5, device='cuda:0')\n"
          ]
        }
      ]
    },
    {
      "cell_type": "markdown",
      "source": [
        "### [Step5] Model compile"
      ],
      "metadata": {
        "id": "gPwh-CXVGtBp"
      }
    },
    {
      "cell_type": "code",
      "source": [
        "# Loss\n",
        "loss = nn.CrossEntropyLoss()\n",
        "# Optimizer\n",
        "learning_rate = 1e-3  #0.001\n",
        "optimizer = torch.optim.Adam(model.parameters(), lr = learning_rate)"
      ],
      "metadata": {
        "id": "RwM8c2TdGseO"
      },
      "execution_count": null,
      "outputs": []
    },
    {
      "cell_type": "markdown",
      "source": [
        "### [Step6] Set train loop"
      ],
      "metadata": {
        "id": "mz2OUt7nHAcn"
      }
    },
    {
      "cell_type": "code",
      "source": [
        "def train_loop(train_loader, model, loss_fn, optimizer):\n",
        "    size = len(train_loader.dataset)\n",
        "\n",
        "    for batch, (X, y) in enumerate(train_loader):\n",
        "        X, y = X.to(device), y.to(device)\n",
        "        pred = model(X)\n",
        "\n",
        "        # 손실 계산\n",
        "        loss = loss_fn(pred, y)\n",
        "\n",
        "        # 역전파\n",
        "        optimizer.zero_grad()\n",
        "        loss.backward()\n",
        "        optimizer.step()\n",
        "\n",
        "        if batch % 100 == 0:\n",
        "            loss, current = loss.item(), batch * len(X)\n",
        "            print(f'loss: {loss:>7f}  [{current:>5d}]/{size:5d}')"
      ],
      "metadata": {
        "id": "ikRtBCZAG_iP"
      },
      "execution_count": null,
      "outputs": []
    },
    {
      "cell_type": "markdown",
      "source": [
        "### [Step7] Set test loop"
      ],
      "metadata": {
        "id": "AYsz8VDYH-hq"
      }
    },
    {
      "cell_type": "code",
      "source": [
        "def test_loop(test_loader, model, loss_fn):\n",
        "    size = len(test_loader.dataset)\n",
        "    num_batches = len(test_loader)\n",
        "    test_loss, correct = 0, 0\n",
        "\n",
        "    with torch.no_grad():\n",
        "        for X, y in test_loader:\n",
        "            X, y = X.to(device), y.to(device)\n",
        "            pred = model(X)\n",
        "            test_loss += loss_fn(pred, y).item()\n",
        "            correct += (pred.argmax(1) == y).type(torch.float).sum().item()\n",
        "\n",
        "    test_loss /= num_batches\n",
        "    correct /= size\n",
        "    print(f\"Test Error: \\n Accuracy: {(100*correct):>0.1f}%, Avg loss: {test_loss:8f}\\n\")"
      ],
      "metadata": {
        "id": "Sn1ny3mCH92_"
      },
      "execution_count": null,
      "outputs": []
    },
    {
      "cell_type": "markdown",
      "source": [
        "### [Step8] Run model"
      ],
      "metadata": {
        "id": "7ecAzx8DI_ri"
      }
    },
    {
      "cell_type": "code",
      "source": [
        "epochs = 10\n",
        "\n",
        "for i in range(epochs) :\n",
        "    print(f\"Epoch {i+1} \\n------------------------\")\n",
        "    train_loop(train_dataloader, model, loss, optimizer)\n",
        "    test_loop(test_dataloader, model, loss)\n",
        "print(\"Done!\")"
      ],
      "metadata": {
        "id": "2OtZ9fhmJBeP",
        "colab": {
          "base_uri": "https://localhost:8080/"
        },
        "outputId": "9ba0b925-6b73-4a52-cb90-fb84c2bf2683"
      },
      "execution_count": null,
      "outputs": [
        {
          "output_type": "stream",
          "name": "stdout",
          "text": [
            "Epoch 1 \n",
            "------------------------\n",
            "loss: 2.338363  [    0]/60000\n",
            "loss: 0.617160  [ 6400]/60000\n",
            "loss: 0.577854  [12800]/60000\n",
            "loss: 0.428681  [19200]/60000\n",
            "loss: 0.486966  [25600]/60000\n",
            "loss: 0.523402  [32000]/60000\n",
            "loss: 0.429639  [38400]/60000\n",
            "loss: 0.486637  [44800]/60000\n",
            "loss: 0.341663  [51200]/60000\n",
            "loss: 0.585729  [57600]/60000\n",
            "Test Error: \n",
            " Accuracy: 82.7%, Avg loss: 0.486998\n",
            "\n",
            "Epoch 2 \n",
            "------------------------\n",
            "loss: 0.531145  [    0]/60000\n",
            "loss: 0.387294  [ 6400]/60000\n",
            "loss: 0.388754  [12800]/60000\n",
            "loss: 0.316007  [19200]/60000\n",
            "loss: 0.641679  [25600]/60000\n",
            "loss: 0.554893  [32000]/60000\n",
            "loss: 0.449397  [38400]/60000\n",
            "loss: 0.351490  [44800]/60000\n",
            "loss: 0.330951  [51200]/60000\n",
            "loss: 0.529541  [57600]/60000\n",
            "Test Error: \n",
            " Accuracy: 84.2%, Avg loss: 0.429894\n",
            "\n",
            "Epoch 3 \n",
            "------------------------\n",
            "loss: 0.291995  [    0]/60000\n",
            "loss: 0.435148  [ 6400]/60000\n",
            "loss: 0.340671  [12800]/60000\n",
            "loss: 0.279035  [19200]/60000\n",
            "loss: 0.371856  [25600]/60000\n",
            "loss: 0.337553  [32000]/60000\n",
            "loss: 0.253912  [38400]/60000\n",
            "loss: 0.431120  [44800]/60000\n",
            "loss: 0.383920  [51200]/60000\n",
            "loss: 0.340898  [57600]/60000\n",
            "Test Error: \n",
            " Accuracy: 85.7%, Avg loss: 0.398846\n",
            "\n",
            "Epoch 4 \n",
            "------------------------\n",
            "loss: 0.374091  [    0]/60000\n",
            "loss: 0.302384  [ 6400]/60000\n",
            "loss: 0.411072  [12800]/60000\n",
            "loss: 0.367974  [19200]/60000\n",
            "loss: 0.329596  [25600]/60000\n",
            "loss: 0.238752  [32000]/60000\n",
            "loss: 0.303660  [38400]/60000\n",
            "loss: 0.554392  [44800]/60000\n",
            "loss: 0.536260  [51200]/60000\n",
            "loss: 0.333339  [57600]/60000\n",
            "Test Error: \n",
            " Accuracy: 85.7%, Avg loss: 0.395745\n",
            "\n",
            "Epoch 5 \n",
            "------------------------\n",
            "loss: 0.338108  [    0]/60000\n",
            "loss: 0.347193  [ 6400]/60000\n",
            "loss: 0.319706  [12800]/60000\n",
            "loss: 0.312318  [19200]/60000\n",
            "loss: 0.309318  [25600]/60000\n",
            "loss: 0.331609  [32000]/60000\n",
            "loss: 0.268303  [38400]/60000\n",
            "loss: 0.266066  [44800]/60000\n",
            "loss: 0.632706  [51200]/60000\n",
            "loss: 0.312958  [57600]/60000\n",
            "Test Error: \n",
            " Accuracy: 86.9%, Avg loss: 0.372281\n",
            "\n",
            "Epoch 6 \n",
            "------------------------\n",
            "loss: 0.449322  [    0]/60000\n",
            "loss: 0.383497  [ 6400]/60000\n",
            "loss: 0.222750  [12800]/60000\n",
            "loss: 0.425081  [19200]/60000\n",
            "loss: 0.190898  [25600]/60000\n",
            "loss: 0.422955  [32000]/60000\n",
            "loss: 0.515919  [38400]/60000\n",
            "loss: 0.402696  [44800]/60000\n",
            "loss: 0.290021  [51200]/60000\n",
            "loss: 0.355234  [57600]/60000\n",
            "Test Error: \n",
            " Accuracy: 86.7%, Avg loss: 0.372913\n",
            "\n",
            "Epoch 7 \n",
            "------------------------\n",
            "loss: 0.325983  [    0]/60000\n",
            "loss: 0.269333  [ 6400]/60000\n",
            "loss: 0.205373  [12800]/60000\n",
            "loss: 0.388295  [19200]/60000\n",
            "loss: 0.191259  [25600]/60000\n",
            "loss: 0.259897  [32000]/60000\n",
            "loss: 0.303366  [38400]/60000\n",
            "loss: 0.392218  [44800]/60000\n",
            "loss: 0.283362  [51200]/60000\n",
            "loss: 0.218122  [57600]/60000\n",
            "Test Error: \n",
            " Accuracy: 86.5%, Avg loss: 0.380555\n",
            "\n",
            "Epoch 8 \n",
            "------------------------\n",
            "loss: 0.259702  [    0]/60000\n",
            "loss: 0.181257  [ 6400]/60000\n",
            "loss: 0.286264  [12800]/60000\n",
            "loss: 0.255937  [19200]/60000\n",
            "loss: 0.328835  [25600]/60000\n",
            "loss: 0.283358  [32000]/60000\n",
            "loss: 0.198428  [38400]/60000\n",
            "loss: 0.148327  [44800]/60000\n",
            "loss: 0.367812  [51200]/60000\n",
            "loss: 0.262624  [57600]/60000\n",
            "Test Error: \n",
            " Accuracy: 87.3%, Avg loss: 0.360676\n",
            "\n",
            "Epoch 9 \n",
            "------------------------\n",
            "loss: 0.300139  [    0]/60000\n",
            "loss: 0.495834  [ 6400]/60000\n",
            "loss: 0.344754  [12800]/60000\n",
            "loss: 0.267293  [19200]/60000\n",
            "loss: 0.235769  [25600]/60000\n",
            "loss: 0.184147  [32000]/60000\n",
            "loss: 0.274776  [38400]/60000\n",
            "loss: 0.186980  [44800]/60000\n",
            "loss: 0.351424  [51200]/60000\n",
            "loss: 0.325963  [57600]/60000\n",
            "Test Error: \n",
            " Accuracy: 86.7%, Avg loss: 0.375483\n",
            "\n",
            "Epoch 10 \n",
            "------------------------\n",
            "loss: 0.269294  [    0]/60000\n",
            "loss: 0.250076  [ 6400]/60000\n",
            "loss: 0.172883  [12800]/60000\n",
            "loss: 0.329436  [19200]/60000\n",
            "loss: 0.083375  [25600]/60000\n",
            "loss: 0.274175  [32000]/60000\n",
            "loss: 0.222051  [38400]/60000\n",
            "loss: 0.264084  [44800]/60000\n",
            "loss: 0.253523  [51200]/60000\n",
            "loss: 0.299233  [57600]/60000\n",
            "Test Error: \n",
            " Accuracy: 87.2%, Avg loss: 0.360197\n",
            "\n",
            "Done!\n"
          ]
        }
      ]
    },
    {
      "cell_type": "markdown",
      "source": [
        "### [Step9] Save & load model"
      ],
      "metadata": {
        "id": "MpNO70oMKMpS"
      }
    },
    {
      "cell_type": "markdown",
      "source": [
        "#### parameter만 저장하고 불러오기"
      ],
      "metadata": {
        "id": "HLVcWemLKUBT"
      }
    },
    {
      "cell_type": "code",
      "source": [
        "torch.save(model.state_dict(), 'model_weights.pth')"
      ],
      "metadata": {
        "id": "fMblMnMHKO7N"
      },
      "execution_count": null,
      "outputs": []
    },
    {
      "cell_type": "code",
      "source": [
        "model2 = NeuralNetwork().to(device)     #모델 선언\n",
        "print(model2)"
      ],
      "metadata": {
        "id": "9umiR2NoKb5Q"
      },
      "execution_count": null,
      "outputs": []
    },
    {
      "cell_type": "code",
      "source": [
        "model2.load_state_dict(torch.load('model_weights.pth')) #저장한 파라미터 삽입"
      ],
      "metadata": {
        "id": "wJvuPDtHKrAM"
      },
      "execution_count": null,
      "outputs": []
    },
    {
      "cell_type": "code",
      "source": [
        "model2.eval()\n",
        "test_loop(test_dataloader, model2, loss)"
      ],
      "metadata": {
        "id": "1p1OgmBIKyK_"
      },
      "execution_count": null,
      "outputs": []
    },
    {
      "cell_type": "markdown",
      "source": [
        "#### Model 전체를 저장하고 불러오기"
      ],
      "metadata": {
        "id": "3ZiC1dO8K6NM"
      }
    },
    {
      "cell_type": "code",
      "source": [
        "torch.save(model, 'model.pth')"
      ],
      "metadata": {
        "id": "eOhIYMTEKzZU"
      },
      "execution_count": null,
      "outputs": []
    },
    {
      "cell_type": "code",
      "source": [
        "model3 = torch.load('model.pth')"
      ],
      "metadata": {
        "id": "MG_hDRlqK_y5"
      },
      "execution_count": null,
      "outputs": []
    },
    {
      "cell_type": "code",
      "source": [
        "model3.eval()\n",
        "test_loop(test_dataloader, model3, loss)"
      ],
      "metadata": {
        "id": "ZpKXEZTeLCbh"
      },
      "execution_count": null,
      "outputs": []
    }
  ]
}